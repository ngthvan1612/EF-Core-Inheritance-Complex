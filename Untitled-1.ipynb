{
 "cells": [
  {
   "cell_type": "code",
   "execution_count": 1,
   "metadata": {},
   "outputs": [
    {
     "data": {
      "text/html": [
       "<div><div></div><div></div><div><strong>Installed Packages</strong><ul><li><span>Microsoft.EntityFrameworkCore, 7.0.0</span></li></ul></div></div>"
      ]
     },
     "metadata": {},
     "output_type": "display_data"
    }
   ],
   "source": [
    "#r \"nuget:Microsoft.EntityFrameworkCore,7\""
   ]
  },
  {
   "cell_type": "code",
   "execution_count": 2,
   "metadata": {},
   "outputs": [
    {
     "data": {
      "text/html": [
       "<div><div></div><div></div><div><strong>Installed Packages</strong><ul><li><span>Mysql.EntityFrameworkCore, 6.0.0</span></li></ul></div></div>"
      ]
     },
     "metadata": {},
     "output_type": "display_data"
    }
   ],
   "source": [
    "#r \"nuget:Mysql.EntityFrameworkCore,6\""
   ]
  },
  {
   "cell_type": "code",
   "execution_count": 3,
   "metadata": {},
   "outputs": [],
   "source": [
    "string connectionString = \"Server=localhost;Database=test_ef_core_inherit;Uid=root;Pwd=1234;\";"
   ]
  },
  {
   "cell_type": "code",
   "execution_count": 4,
   "metadata": {},
   "outputs": [],
   "source": [
    "using Microsoft.EntityFrameworkCore;"
   ]
  },
  {
   "cell_type": "markdown",
   "metadata": {},
   "source": [
    "# 1. Modelling"
   ]
  },
  {
   "cell_type": "code",
   "execution_count": 5,
   "metadata": {},
   "outputs": [],
   "source": [
    "public abstract class Course\n",
    "{\n",
    "  public Guid Id { get; set;}\n",
    "\n",
    "  public string Name { get; set; } = null!;\n",
    "\n",
    "  public int Price { get; set; }\n",
    "}"
   ]
  },
  {
   "cell_type": "code",
   "execution_count": 6,
   "metadata": {},
   "outputs": [],
   "source": [
    "\n",
    "public abstract class User\n",
    "{\n",
    "  public Guid Id { get; set; }\n",
    "\n",
    "  public string Username { get; set; } = null!;\n",
    "}"
   ]
  },
  {
   "cell_type": "code",
   "execution_count": 7,
   "metadata": {},
   "outputs": [],
   "source": [
    "public class Student : User\n",
    "{\n",
    "  public string FacebookUrl { get; set; } = null!;\n",
    "}"
   ]
  },
  {
   "cell_type": "code",
   "execution_count": 8,
   "metadata": {},
   "outputs": [],
   "source": [
    "public class Teacher : User\n",
    "{\n",
    "  public string Education { get; set; } = null!;\n",
    "\n",
    "  public ICollection<TeachingCourse> MyCourses { get; set; } = new List<TeachingCourse>();\n",
    "\n",
    "  public void Teach(TeachingCourse course)\n",
    "  {\n",
    "    this.MyCourses.Add(course);\n",
    "    course.Teacher = this;\n",
    "  }\n",
    "}\n",
    "\n",
    "public class TeachingCourse : Course\n",
    "{\n",
    "  public Guid TeacherId { get; set; }\n",
    "\n",
    "  public Teacher Teacher { get; set; } = null!;\n",
    "\n",
    "  public int MaximumNumberOfStudents { get; set; }\n",
    "}"
   ]
  },
  {
   "cell_type": "code",
   "execution_count": 9,
   "metadata": {},
   "outputs": [],
   "source": [
    "public class SelfStudyCourse : Course\n",
    "{\n",
    "  public string SelfStudyTips { get; set; } = null!;\n",
    "}"
   ]
  },
  {
   "cell_type": "markdown",
   "metadata": {},
   "source": [
    "# 2. EF Model"
   ]
  },
  {
   "cell_type": "code",
   "execution_count": 10,
   "metadata": {
    "dotnet_interactive": {
     "language": "csharp"
    },
    "polyglot_notebook": {
     "kernelName": "csharp"
    }
   },
   "outputs": [
    {
     "ename": "Error",
     "evalue": "(23,33): error CS1061: 'EntityTypeBuilder<User>' does not contain a definition for 'UseTpcMappingStrategy' and no accessible extension method 'UseTpcMappingStrategy' accepting a first argument of type 'EntityTypeBuilder<User>' could be found (are you missing a using directive or an assembly reference?)\r\n(24,35): error CS1061: 'EntityTypeBuilder<Course>' does not contain a definition for 'UseTpcMappingStrategy' and no accessible extension method 'UseTpcMappingStrategy' accepting a first argument of type 'EntityTypeBuilder<Course>' could be found (are you missing a using directive or an assembly reference?)",
     "output_type": "error",
     "traceback": [
      "(23,33): error CS1061: 'EntityTypeBuilder<User>' does not contain a definition for 'UseTpcMappingStrategy' and no accessible extension method 'UseTpcMappingStrategy' accepting a first argument of type 'EntityTypeBuilder<User>' could be found (are you missing a using directive or an assembly reference?)\r\n",
      "(24,35): error CS1061: 'EntityTypeBuilder<Course>' does not contain a definition for 'UseTpcMappingStrategy' and no accessible extension method 'UseTpcMappingStrategy' accepting a first argument of type 'EntityTypeBuilder<Course>' could be found (are you missing a using directive or an assembly reference?)"
     ]
    }
   ],
   "source": [
    "\n",
    "public class AppDbContext : DbContext\n",
    "{\n",
    "  public DbSet<User> Users { get; set; } = null!;\n",
    "  public DbSet<Teacher> Teachers { get; set; } = null!;\n",
    "  public DbSet<Student> Students { get; set; } = null!;\n",
    "  public DbSet<Course> Courses { get; set; } = null!;\n",
    "  public DbSet<SelfStudyCourse> SelfStudyCourses { get; set; } = null!;\n",
    "  public DbSet<TeachingCourse> TeachingCourses { get; set; } = null!;\n",
    "\n",
    "  public AppDbContext()\n",
    "  {\n",
    "    this.Database.EnsureCreated();\n",
    "  }\n",
    "\n",
    "  protected override void OnConfiguring(DbContextOptionsBuilder optionsBuilder)\n",
    "  {\n",
    "    optionsBuilder.UseMySQL(\"Server=localhost;Database=test_ef_core_inherit;Uid=root;Pwd=1234;\");\n",
    "  }\n",
    "\n",
    "  protected override void OnModelCreating(ModelBuilder modelBuilder)\n",
    "  {\n",
    "    modelBuilder.Entity<User>().UseTpcMappingStrategy();\n",
    "    modelBuilder.Entity<Course>().UseTpcMappingStrategy();\n",
    "\n",
    "    modelBuilder.Entity<Teacher>()\n",
    "      .HasMany(u => u.MyCourses)\n",
    "      .WithOne(u =>  u.Teacher);\n",
    "  }\n",
    "}\n"
   ]
  },
  {
   "cell_type": "code",
   "execution_count": null,
   "metadata": {},
   "outputs": [],
   "source": []
  }
 ],
 "metadata": {
  "kernelspec": {
   "display_name": ".NET (C#)",
   "language": "C#",
   "name": ".net-csharp"
  },
  "polyglot_notebook": {
   "kernelInfo": {
    "defaultKernelName": "csharp",
    "items": [
     {
      "aliases": [],
      "languageName": "csharp",
      "name": "csharp"
     }
    ]
   }
  }
 },
 "nbformat": 4,
 "nbformat_minor": 2
}
